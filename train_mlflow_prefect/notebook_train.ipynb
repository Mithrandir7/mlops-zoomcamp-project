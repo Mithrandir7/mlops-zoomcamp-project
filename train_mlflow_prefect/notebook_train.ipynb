{
 "cells": [
  {
   "cell_type": "code",
   "execution_count": 1,
   "id": "2d251bf7",
   "metadata": {},
   "outputs": [
    {
     "name": "stdout",
     "output_type": "stream",
     "text": [
      "\n",
      "CommandNotFoundError: Your shell has not been properly configured to use 'conda activate'.\n",
      "To initialize your shell, run\n",
      "\n",
      "    $ conda init <SHELL_NAME>\n",
      "\n",
      "Currently supported shells are:\n",
      "  - bash\n",
      "  - fish\n",
      "  - tcsh\n",
      "  - xonsh\n",
      "  - zsh\n",
      "  - powershell\n",
      "\n",
      "See 'conda init --help' for more information and options.\n",
      "\n",
      "IMPORTANT: You may need to close and restart your shell after running 'conda init'.\n",
      "\n",
      "\n"
     ]
    }
   ],
   "source": [
    "# Previously created environment in Anaconda console with conda create -n mlops-zoomcamp-project python=3.8\n",
    "!conda activate mlops-zoomcamp-project"
   ]
  },
  {
   "cell_type": "code",
   "execution_count": 2,
   "id": "c59be2b3",
   "metadata": {},
   "outputs": [
    {
     "name": "stdout",
     "output_type": "stream",
     "text": [
      "mlops-zoomcamp-project\n"
     ]
    }
   ],
   "source": [
    "# Sanity check that the environment is active\n",
    "import os\n",
    "print (os.environ['CONDA_DEFAULT_ENV'])"
   ]
  },
  {
   "cell_type": "code",
   "execution_count": 3,
   "id": "bb8bdb02",
   "metadata": {},
   "outputs": [
    {
     "name": "stdout",
     "output_type": "stream",
     "text": [
      "mlflow, version 1.28.0\n"
     ]
    }
   ],
   "source": [
    "# Question 1: MLflow version\n",
    "\n",
    "!mlflow --version"
   ]
  },
  {
   "cell_type": "code",
   "execution_count": 4,
   "id": "eb617d16",
   "metadata": {},
   "outputs": [
    {
     "name": "stdout",
     "output_type": "stream",
     "text": [
      "/home/usuario/mlops-zoomcamp-project/train_mlflow_prefect/mlflow\n"
     ]
    }
   ],
   "source": [
    "%cd mlflow"
   ]
  },
  {
   "cell_type": "code",
   "execution_count": 5,
   "id": "00884349",
   "metadata": {},
   "outputs": [
    {
     "name": "stdout",
     "output_type": "stream",
     "text": [
      "hpo.py\tpreprocess_data.py  register_model.py  train.py\n"
     ]
    }
   ],
   "source": [
    "!dir"
   ]
  },
  {
   "cell_type": "code",
   "execution_count": 6,
   "id": "7ee0aaab",
   "metadata": {},
   "outputs": [],
   "source": [
    "!python preprocess_data.py --raw_data_path ../data --dest_path ../output"
   ]
  },
  {
   "cell_type": "code",
   "execution_count": 7,
   "id": "a914ced4",
   "metadata": {},
   "outputs": [
    {
     "name": "stdout",
     "output_type": "stream",
     "text": [
      "/home/usuario/mlops-zoomcamp-project/train_mlflow_prefect/output\n"
     ]
    }
   ],
   "source": [
    "%cd ../output"
   ]
  },
  {
   "cell_type": "code",
   "execution_count": 8,
   "id": "a0bf16ba",
   "metadata": {},
   "outputs": [
    {
     "name": "stdout",
     "output_type": "stream",
     "text": [
      "4\n"
     ]
    }
   ],
   "source": [
    "#Question 2: How many files saved to output folder?\n",
    "\n",
    "import os\n",
    "print(len([name for name in os.listdir('.') if os.path.isfile(name)]))"
   ]
  },
  {
   "cell_type": "code",
   "execution_count": 9,
   "id": "91f469d8",
   "metadata": {},
   "outputs": [
    {
     "name": "stdout",
     "output_type": "stream",
     "text": [
      "/home/usuario/mlops-zoomcamp-project/train_mlflow_prefect\n"
     ]
    }
   ],
   "source": [
    "%cd .."
   ]
  },
  {
   "cell_type": "code",
   "execution_count": 10,
   "id": "f32d45ab",
   "metadata": {},
   "outputs": [
    {
     "name": "stdout",
     "output_type": "stream",
     "text": [
      "2022/09/12 00:05:42 INFO mlflow.tracking.fluent: Experiment with name 'house-rent-experiment' does not exist. Creating a new experiment.\n",
      "2022/09/12 00:05:47 WARNING mlflow.utils.autologging_utils: MLflow autologging encountered a warning: \"/home/usuario/anaconda3/envs/mlops-zoomcamp-project/lib/python3.8/site-packages/_distutils_hack/__init__.py:33: UserWarning: Setuptools is replacing distutils.\"\n"
     ]
    }
   ],
   "source": [
    "# Added this in train.py right before rf = RandomForestRegressor(max_depth=10, random_state=0)\n",
    "#    mlflow.set_tracking_uri(\"sqlite:///mlflow.db\")\n",
    "#    mlflow.set_experiment(\"nyc-taxi-experiment\")\n",
    "#    mlflow.sklearn.autolog()\n",
    "#    with mlflow.start_run():\n",
    "\n",
    "!python mlflow/train.py"
   ]
  },
  {
   "cell_type": "code",
   "execution_count": 11,
   "id": "9862775d",
   "metadata": {},
   "outputs": [],
   "source": [
    "# Question 3: How many parameters are automatically logged by MLflow?\n",
    "\n",
    "# I executed mlflow ui --backend-store-uri sqlite:///mlflow.db to open mlflow in http://127.0.0.1:5000 and\n",
    "# checked the parameters of the last run, which were 17"
   ]
  },
  {
   "cell_type": "code",
   "execution_count": 12,
   "id": "eeeefef9",
   "metadata": {},
   "outputs": [],
   "source": [
    "# Question 4: In addition to backend-store-uri, what else do you need to pass to properly configure the server?\n",
    "\n",
    "# I run in Anaconda console: mlflow ui --backend-store-uri sqlite:///mlflow.db --default-artifact-root ./mlruns"
   ]
  },
  {
   "cell_type": "code",
   "execution_count": 13,
   "id": "575f95a8",
   "metadata": {},
   "outputs": [
    {
     "name": "stdout",
     "output_type": "stream",
     "text": [
      "2022/09/12 00:05:59 INFO mlflow.tracking.fluent: Experiment with name 'random-forest-hyperopt' does not exist. Creating a new experiment.\n",
      "100%|██████████| 50/50 [00:25<00:00,  2.00trial/s, best loss: 25462.99739058372]\n"
     ]
    }
   ],
   "source": [
    "# I enclosed the RandomForestRegressor with: with mlflow.start_run():\n",
    "# and logged the parameters as well as the rmse metric at the last line of the block\n",
    "\n",
    "!python mlflow/hpo.py"
   ]
  },
  {
   "cell_type": "code",
   "execution_count": 14,
   "id": "08ff5bf0",
   "metadata": {},
   "outputs": [],
   "source": [
    "# Question 5: What's the best validation RMSE that you got?\n",
    "\n",
    "# 6.628"
   ]
  },
  {
   "cell_type": "code",
   "execution_count": 15,
   "id": "0d1f2c01",
   "metadata": {},
   "outputs": [
    {
     "name": "stdout",
     "output_type": "stream",
     "text": [
      "2022/09/12 00:06:27 INFO mlflow.tracking.fluent: Experiment with name 'random-forest-best-models' does not exist. Creating a new experiment.\n",
      "2022/09/12 00:06:30 WARNING mlflow.utils.autologging_utils: MLflow autologging encountered a warning: \"/home/usuario/anaconda3/envs/mlops-zoomcamp-project/lib/python3.8/site-packages/_distutils_hack/__init__.py:33: UserWarning: Setuptools is replacing distutils.\"\n",
      "Successfully registered model 'house-rent-regressor'.\n",
      "2022/09/12 00:06:41 INFO mlflow.tracking._model_registry.client: Waiting up to 300 seconds for model version to finish creation.                     Model name: house-rent-regressor, version 1\n",
      "Created version '1' of model 'house-rent-regressor'.\n"
     ]
    }
   ],
   "source": [
    "!python mlflow/register_model.py"
   ]
  },
  {
   "cell_type": "code",
   "execution_count": 16,
   "id": "c0077866",
   "metadata": {},
   "outputs": [
    {
     "name": "stdout",
     "output_type": "stream",
     "text": [
      "40b7243af8de4ad99f402320bd80a066\n"
     ]
    }
   ],
   "source": [
    "# Retrieve the run id associated with the registered best model\n",
    "\n",
    "import mlflow\n",
    "from mlflow.tracking import MlflowClient\n",
    "\n",
    "mlflow.set_tracking_uri(\"sqlite:///mlflow.db\")\n",
    "mlflow.set_experiment(\"house-rent-experiment\")\n",
    "\n",
    "client = MlflowClient()\n",
    "run_id_best_model = client.get_latest_versions(\"house-rent-regressor\", stages=[\"None\"])[0].run_id\n",
    "print(run_id_best_model)"
   ]
  },
  {
   "cell_type": "code",
   "execution_count": 17,
   "id": "25eade41",
   "metadata": {},
   "outputs": [
    {
     "data": {
      "text/plain": [
       "25761.342517995818"
      ]
     },
     "execution_count": 17,
     "metadata": {},
     "output_type": "execute_result"
    }
   ],
   "source": [
    "# Question 6: What is the test RMSE of the best model?\n",
    "\n",
    "mlflow.get_run(run_id_best_model).data.metrics['test_rmse']"
   ]
  },
  {
   "cell_type": "code",
   "execution_count": null,
   "id": "c3d02c8c",
   "metadata": {},
   "outputs": [],
   "source": []
  }
 ],
 "metadata": {
  "kernelspec": {
   "display_name": "Python 3.8.13 ('mlops-zoomcamp-project')",
   "language": "python",
   "name": "python3"
  },
  "language_info": {
   "codemirror_mode": {
    "name": "ipython",
    "version": 3
   },
   "file_extension": ".py",
   "mimetype": "text/x-python",
   "name": "python",
   "nbconvert_exporter": "python",
   "pygments_lexer": "ipython3",
   "version": "3.8.13"
  },
  "vscode": {
   "interpreter": {
    "hash": "e86285f8c37ae10893ce4e0c96b12edf035d931448c69ca7794a3805bd77938d"
   }
  }
 },
 "nbformat": 4,
 "nbformat_minor": 5
}
